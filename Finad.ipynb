{
 "cells": [
  {
   "cell_type": "code",
   "execution_count": 37,
   "id": "d0da16ac",
   "metadata": {},
   "outputs": [],
   "source": [
    "import calendar\n",
    "import datetime\n",
    "import numpy as np\n",
    "import matplotlib.pyplot as plt\n",
    "import plotly.graph_objects as go\n",
    "import random as rd\n",
    "import pandas as pd\n",
    "from openpyxl import load_workbook\n",
    "\n",
    "# Class organizer-------------------------------------------------------------------------------------------------------------------------------------\n",
    "class Organizer:\n",
    "    \"\"\"The organizer is called to generate a directory of the accounts and arrange the money. To initialize, Organizer needs an accounts list\n",
    "    of the form:\n",
    "    accounts=[[account 1 name,account 1 key],\n",
    "              [account 2 name,account 2 key],\n",
    "              ...\n",
    "              [account N name,account N key]]\n",
    "    where the keys are 1 letter assigments to the accounts.\"\"\"\n",
    "\n",
    "    def __init__(self,accounts):\n",
    "        \"\"\"Constructor: generates accounts_PG, a private directory of the accounts and attach an 2D float_vector with budgets\n",
    "        and bills to each account. Aditionally it creates names, constbills, dailybills, and savings directories to store any constant,\n",
    "        daily bills or savings.\"\"\"\n",
    "#       Default commands.\n",
    "        self.__command_letters=['P','G','T','A','d']\n",
    "#       Definitions.\n",
    "        self.__names={}\n",
    "        self.__accounts_PG={}\n",
    "        self.__constbills={}\n",
    "        self.__dailybills={}\n",
    "        self.__savings={}\n",
    "        for i in accounts:\n",
    "#           Takes care that the keys asigned to each account aren't used by the commands.\n",
    "            if i[1] in self.__command_letters: raise TypeError(f'{self.__command_letters} Not allowed key.')\n",
    "#           Takes care that the keys are a char: one length string.\n",
    "            if len(i[1])>1: raise TypeError(\"Key must be one letter.\")\n",
    "#           Takes care that the account keys aren't repeated.\n",
    "            if i[1] in self.__accounts_PG: raise TypeError(f'{i[1]} Key already used for another account.')\n",
    "#           Store the account dictionary: index 0 for budget and 1 index for bill.\n",
    "            self.__accounts_PG[i[1]]=[0.0,0.0]\n",
    "#           Store the names dictionary.\n",
    "            self.__names[i[1]]=i[0]\n",
    "#       Store the days for the 'd' command.\n",
    "        self.__days=0\n",
    "\n",
    "    def set_constbill(self,account,constbill,command_letter=\"\"):\n",
    "        \"\"\"In case an account has a constant payment, this function assigns to the account dictionary a list that will contain\n",
    "        the amount of the bill and the times it has been pay and the value of the pay. Additionally, it creates constbill\n",
    "        directory with the command letter and the attached account for this bill.\"\"\"\n",
    "#       By default, the command letter asigned to the constbill will be te lowcase of the account key.\n",
    "        if command_letter==\"\":\n",
    "            command_letter=account.lower()\n",
    "#       Take cares that the new constbill command is already used by the command letters or the account keys.\n",
    "        if command_letter in self.__command_letters or command_letter in self.__accounts_PG:\n",
    "            raise TypeError(f'{command_letter} key already used.')\n",
    "#       The command used must be one letter length.\n",
    "        if len(command_letter)>1: raise TypeError(\"Command must be one letter.\")\n",
    "        else:\n",
    "#           Attach the command to the command letters list.\n",
    "            self.__command_letters.append(command_letter)\n",
    "#           Appends the cosntant bill to the accounts dictionary.\n",
    "            self.__accounts_PG[account].append([0,constbill])\n",
    "#           Creates the constbill directory that relates the new commando with the respective account, and the postition of this\n",
    "#           new array in the accounts directory.\n",
    "            self.__constbills[command_letter]=[account,len(self.__accounts_PG[account])-1]\n",
    "\n",
    "    def set_dailybill(self,account,dailybill,):\n",
    "        \"\"\"In case an account has a daily payment, this function assigns to the dailybills directory a list that will contain\n",
    "        the amount of the daily bill and a boolean for unique payment. If there are more than one daily pay in one account, the\n",
    "        payments are added up.\"\"\"\n",
    "#       Checks that the account is in the directory.\n",
    "        if account not in self.__accounts_PG: raise TypeError(f'{account} not an account.')\n",
    "        if account in self.__dailybills:\n",
    "#           If the account has already a daily bill, the new bill is added up.\n",
    "            self.__dailybills[account][0]+=dailybill\n",
    "        else:\n",
    "#           Attach the list to the directory: index 0 for the amount of the daily bill and index 1 for uniquepay boolean.\n",
    "            self.__dailybills[account]=[dailybill,False]\n",
    "\n",
    "    def set_savingaccount(self,account):\n",
    "        \"\"\"In case the account has some savings to put appart from paying money, this function assings to the savings directory\n",
    "        the name of the account and the space to store this savings.\"\"\"\n",
    "#       Checks that the account is in the directory.\n",
    "        if account not in self.__accounts_PG: raise TypeError(f'{account} not an account.')\n",
    "        if account in self.__dailybills and self.__dailybills[account][1]==True:\n",
    "#           If the account is for unique pay, it cannot has savings.\n",
    "            raise TypeError(f'{account} cannot has savings since is a unique payment account.')\n",
    "        else:\n",
    "#           Attach the account to the savings directory.\n",
    "            self.__savings[account]=0.0\n",
    "\n",
    "    def set_uniquepay(self,account):\n",
    "        \"\"\"In case an account with a daily payment is set to pay only for this bill, this function set the daily bill directory\n",
    "        list boolean ti true.\"\"\"\n",
    "#       Checks that the account is in daily bills.\n",
    "        if account in self.__dailybills:\n",
    "#           If the account is in savings, it cannot has a unique payment atribute.\n",
    "            if account in self.__savings:\n",
    "                raise TypeError(f'{account} cannot be set to unique payment since it has savings.')\n",
    "#           Sets the boolean to true.\n",
    "            self.__dailybills[account][1]=True\n",
    "        else: raise TypeError(f'{account} must have a daily bill.')\n",
    "\n",
    "    def set_mode(self,line,index):\n",
    "        \"\"\"This function takes in a line from the daily bills txt and return a list\n",
    "        [command mode,account for the command action]\"\"\"\n",
    "        mode=[]\n",
    "#       Checks that the line is not empty.\n",
    "        if line=='': raise TypeError(f'Line {index+1}: empty mode.')\n",
    "\n",
    "#       Checks the first letter of the line to be a command and append the command index to mode.\n",
    "        if line[0] in self.__command_letters: mode.append(self.__command_letters.index(line[0]))\n",
    "        else: raise TypeError(f'Line {index+1}: first character must be a command character.')\n",
    "\n",
    "#       Appends the rest of the command to mode.\n",
    "        mode.append(line[1:])\n",
    "\n",
    "#       For modes P or G\n",
    "        if mode[0]==0 or mode[0]==1:\n",
    "#           If the length is 1, checks that the account is in the accounts list\n",
    "            if len(mode[1])==1:\n",
    "                if mode[1] not in self.__names: raise TypeError(f'Line {index+1}: {mode[1]} not an account key.')\n",
    "#           If the lenght is grater than 1, it means is refering to a saving account. It checks that the saving key is used.\n",
    "            elif len(mode[1])>1:\n",
    "                if mode[1][0]!='A':\n",
    "                    raise TypeError(f'Line {index+1}: command must have one account entry or specify A key for savings.')\n",
    "                if mode[1][1:] not in self.__savings: raise TypeError(f'Line {index+1}: {mode[1][1:]} not a savings account key.')\n",
    "            elif len(mode[1])==0:\n",
    "                raise TypeError(f'Line {index+1}: No account especified.')\n",
    "#           If not error is detected, function returns the mode\n",
    "            return mode\n",
    "\n",
    "#       For mode T\n",
    "        elif mode[0]==2:\n",
    "#           If the line doesn't have a dash line, returns an error.\n",
    "            if '-' not in mode[1] or len(mode[1])<3: raise TypeError(f'Line {index+1}: {line} command invalid.')\n",
    "\n",
    "#           If the transaction is made from a normal account, it checks that the dashed line is in position 1.\n",
    "            elif mode[1][1]=='-':\n",
    "#               Checks that the first account is on the accounts list.\n",
    "                if mode[1][0] not in self.__names:\n",
    "                    raise TypeError(f'Line {index+1}: {mode[1][0]} not an account.')\n",
    "                if mode[1][2:] not in self.__names:\n",
    "#                   If the length of the account is 1, it means that the account is wrong.\n",
    "                    if len(mode[1][2:])==1:\n",
    "                        raise TypeError(f'Line {index+1}: {mode[1][2:]} not an account.')\n",
    "                    else:\n",
    "#                       For the seccond account if is not in the accounts list, checks that the saving key is active.\n",
    "                        if mode[1][2]!='A': raise TypeError(f'Line {index+1}: {mode[1][2:]} has no saving atribute A.')\n",
    "#                       Then, it checks that the account is in the savings accounts list.\n",
    "                        if mode[1][3:] not in self.__savings: raise TypeError(f'Line {index+1}: {mode[1][3:]} not a savings account.')\n",
    "\n",
    "#               If none of the errors are spotted, function returns the mode: [2,account 1,account 2].\n",
    "                mode[1]=line[1]\n",
    "                mode.append(line[3:])\n",
    "                return mode\n",
    "\n",
    "#           If the transaction is made from a savings account, it checks that the dashed line is in position 2.\n",
    "            elif mode[1][2]=='-':\n",
    "#               Checks that the first character is the A saving key\n",
    "                if mode[1][0]!='A':\n",
    "                    raise TypeError(f'Line {index+1}: {mode[1][0:2]} has no saving atribute A.')\n",
    "#               Checks that the first account is on the accounts list.\n",
    "                if mode[1][1] not in self.__savings:\n",
    "                    raise TypeError(f'Line {index+1}: {mode[1][1]} not a savings account.')\n",
    "                if mode[1][3:] not in self.__names:\n",
    "#                   If the length of the account is 1, it means that the account is wrong.\n",
    "                    if len(mode[1][3:])==1:\n",
    "                        raise TypeError(f'Line {index+1}: {mode[1][3:]} not an account.')\n",
    "                    else:\n",
    "#                       For the seccond account if is not in the accounts list, checks that the saving key is active.\n",
    "                        if mode[1][3]!='A': raise TypeError(f'Line {index+1}: {mode[1][3:]} has no saving atribute A')\n",
    "#                       Then, it checks that the account is in the accounts list.\n",
    "                        if mode[1][4:] not in self.__savings: raise TypeError(f'Line {index+1}: {mode[1][4:]} not an account.')\n",
    "\n",
    "#               If none of the errors are spotted, function returns the mode: [2,account 1,account 2].\n",
    "                mode[1]=line[1:3]\n",
    "                mode.append(line[4:])\n",
    "                return mode\n",
    "\n",
    "#           If none of the above is taken, it means that the line is wrong.\n",
    "            else: raise TypeError(f'Line {index+1}: {line} command invalid.')\n",
    "\n",
    "#       For mode d or any new command attached by the user:\n",
    "        elif mode[0]>=4:\n",
    "#           Checks that the rest of the line is a number. If it is a number, converts it in float.\n",
    "            if len(line)>1:\n",
    "                if not is_float(line[1:]):\n",
    "                    raise TypeError(f'line {index+1}: {line[1:]} must be a number.')\n",
    "                else:\n",
    "                    mode[1]=float(line[1:])\n",
    "\n",
    "#           If only the command is called, set the number as 1 by default.\n",
    "            elif len(line)==1:\n",
    "                mode[1]=1.0\n",
    "\n",
    "            return mode\n",
    "\n",
    "#       If none of the aboved is taken, an error is spotted, since the line does not match any command.\n",
    "        else:\n",
    "            raise TypeError(f'Line {index+1}: {line} command invalid.')\n",
    "\n",
    "    def read_mode(self,mode,x,index):\n",
    "        \"\"\"reads the command mode and upload the account directory based on the txt info\"\"\"\n",
    "#       If the mode is empty, it returns an error foe empty mode.\n",
    "        if mode==[]: raise TypeError(f'Line {index+1}: The mode is empty. This line or a former line needs to set the mode.')\n",
    "\n",
    "#       For P and G modes:\n",
    "        if mode[0]==0 or mode[0]==1:\n",
    "#           If the account is normal, then the amount is attached to the accounts dictionary.\n",
    "            if len(mode[1])==1:\n",
    "                self.__accounts_PG[mode[1]][mode[0]]+=float(x)\n",
    "#           If the account is a saving account, the amount is store or subtract from savings dictionary.\n",
    "            else:\n",
    "                if mode[0]==0:\n",
    "                    self.__savings[mode[1][-1]]+=float(x)\n",
    "#               When substracting from the saving account, it also adds this amount to the profit and bill of the account, so this amount \n",
    "#               is also counted on the total proofit.\n",
    "                if mode[0]==1:\n",
    "                    self.__savings[mode[1][-1]]-=float(x)\n",
    "                    self.__accounts_PG[mode[1][-1]][0]+=float(x)\n",
    "                    self.__accounts_PG[mode[1][-1]][1]+=float(x)\n",
    "\n",
    "#       For T mode:\n",
    "        elif mode[0]==2:\n",
    "#           If both accounts are normal, it subtracts the budget for the first account and adds it to the second account budget.\n",
    "            if len(mode[1])==1 and len(mode[2])==1:\n",
    "                self.__accounts_PG[mode[1]][0]-=float(x)\n",
    "                self.__accounts_PG[mode[2]][0]+=float(x)\n",
    "\n",
    "#           If the first account is normal and the second is savings, it substracts the amount from the normal account and adds it to the savings \n",
    "#           account.\n",
    "            if len(mode[1])==1 and len(mode[2])!=1:\n",
    "                self.__accounts_PG[mode[1]][0]-=float(x)\n",
    "                self.__savings[mode[2][-1]]+=float(x)\n",
    "\n",
    "#           If the first account is saving and the second is normal, it substracts the amount from the saving account and adds it to the savings \n",
    "#           account.\n",
    "            if len(mode[1])!=1 and len(mode[2])==1:\n",
    "                self.__savings[mode[1][-1]]-=float(x)\n",
    "                self.__accounts_PG[mode[2]][0]+=float(x)\n",
    "\n",
    "#           If both accounts are saving, it substracts the amount from the first saving account and adds it to the second savings account.\n",
    "            if len(mode[1])!=1 and len(mode[2])!=1:\n",
    "                self.__savings[mode[1][-1]]-=float(x)\n",
    "                self.__savings[mode[2][-1]]+=float(x)\n",
    "\n",
    "#       For d mode:\n",
    "        elif mode[0]==4:\n",
    "            self.__days+=mode[1]\n",
    "\n",
    "#       For other modes: adds the amount of times the constant bill is paid.\n",
    "        elif mode[0]>4:\n",
    "            command=self.__command_letters[mode[0]]\n",
    "            self.__accounts_PG[self.__constbills[command][0]][self.__constbills[command][1]][0]+=mode[1]\n",
    "\n",
    "    def read(self,name,b_days=False):\n",
    "        \"\"\"Read a daily budget-bills .txt and puts the info in the respective 2D vector component.\"\"\"\n",
    "#       Sets the amounts to cero again, in case it is full from a recent call\n",
    "        for i in self.__accounts_PG:\n",
    "            self.__accounts_PG[i][0]=0.0\n",
    "            self.__accounts_PG[i][1]=0.0\n",
    "\n",
    "        for i in self.__constbills:\n",
    "            self.__accounts_PG[self.__constbills[i][0]][self.__constbills[i][1]][0]=0\n",
    "\n",
    "        for i in self.__savings:\n",
    "            self.__savings[i]=0.0\n",
    "\n",
    "        self.__days=0\n",
    "\n",
    "        L=count_lines(name)\n",
    "        f=open(name,\"r\")\n",
    "        mode=[]\n",
    "\n",
    "#       Runs over the lines of the txt.\n",
    "        for i in range(L):\n",
    "            x=f.readline().strip()\n",
    "#           If the line contains a comment, the character '#' defines where the command line ends (command, or number).\n",
    "            if '#' in x:\n",
    "                x=x[:x.index('#')].strip(' ')\n",
    "#           If the line is a number, reads the mode to asigne the value in the directory.\n",
    "            if is_float(x):\n",
    "                if mode[0]>=4:\n",
    "                    raise TypeError(f'Line {i+1}: invalid mode before a number input -> {self.__command_letters[mode[0]]}.\\n'\n",
    "                                   f'Available modes are: {self.__command_letters[0:3]}.')\n",
    "                else:\n",
    "                    self.read_mode(mode,x,i)\n",
    "#           If the line is empty, it pass to the next line.\n",
    "            elif(x==''): pass\n",
    "#           If the line is a command, it sets the mode, and read it.\n",
    "            else:\n",
    "                mode=self.set_mode(x,i)\n",
    "                if mode[0]>=4:\n",
    "                    self.read_mode(mode,x,i)\n",
    "        f.close()\n",
    "#       Set the month days.\n",
    "        month_days=mdays()\n",
    "\n",
    "#       Checks that the days are not grater than the month days.\n",
    "        if self.__days>month_days: raise TypeError(\"Number of days cannot be longer that the month days.\")\n",
    "        if int(self.__days)!=datetime.datetime.now().day:\n",
    "            print('\\x1b[31mWARNING:\\x1b[0m'+f'Los días intriducidos ({int(self.__days)}) no coinciden con la fecha actual '\n",
    "                                            f'({datetime.datetime.now().day}).')\n",
    "#       Total variables are set to store the total budget, bill and proyection.\n",
    "        total_budget=0\n",
    "        total_bill=0\n",
    "        total_savings=0\n",
    "        total_proyection=0\n",
    "\n",
    "#       Shows the upload accounts, and predicts how much can be extra spent (besite daily bills) for each account.\n",
    "        print(f'Dias: {int(self.__days)} de {month_days}\\n')\n",
    "\n",
    "        for i in self.__accounts_PG:\n",
    "#           Account bill is a local variable to store the total bill: spent by constant and non constnat payments\n",
    "            account_bill=self.__accounts_PG[i][1]\n",
    "#           If the directoy item length is grater than 2, it means it has constant bills that are store\n",
    "            if len(self.__accounts_PG[i])>2:\n",
    "                 for j in range(2,len(self.__accounts_PG[i])):\n",
    "                    account_bill+=self.__accounts_PG[i][j][0]*self.__accounts_PG[i][j][1]\n",
    "\n",
    "#           Stores the account budget and bill in total variables.\n",
    "            total_budget+=self.__accounts_PG[i][0]\n",
    "            total_bill+=account_bill\n",
    "\n",
    "#           If the account is saving, it adds the amount to total savings.\n",
    "            if i in self.__savings:\n",
    "              total_savings+=self.__savings[i]\n",
    "\n",
    "#           Account proyection is a local variable to calculate the account daily proyection bill for the month. It is only\n",
    "#           activate if the days passed are less than the month:\n",
    "            if(month_days>self.__days):\n",
    "#               This proyection starts as the account budget minus the account total bill, divided by the remaining days.\n",
    "                account_proyection=(self.__accounts_PG[i][0]-account_bill)/(month_days-self.__days)\n",
    "#               The proyection is added up to the total proyection.\n",
    "                total_proyection+=account_proyection\n",
    "\n",
    "                if i in self.__dailybills:\n",
    "#                   If there is a daily bill with unique pay for the account, the proyection stores what is left to fill the\n",
    "#                   the month bill.\n",
    "                    if self.__dailybills[i][1]:\n",
    "#                       If b_days==True, the proyection is made with the bussines days only.\n",
    "                        if b_days:\n",
    "                            Bdays=bdays()\n",
    "                            Bdays_till=bdays_til(int(self.__days))\n",
    "                            \n",
    "#                           Only if the current business days are less than the total business days, calculates the proyection.\n",
    "                            if Bdays>Bdays_till: \n",
    "#                               Bussines days proyection, a auxiliar variable\n",
    "                                Baccount_proyection=(self.__accounts_PG[i][0]-account_bill)/(Bdays-Bdays_till)\n",
    "\n",
    "#                               If the account is for unique payment, and the proyection is positive, meaning that there is extra\n",
    "#                               charge in the account, it is substracted from the total proyection.\n",
    "                                if Baccount_proyection-self.__dailybills[i][0]>0:\n",
    "                                    total_proyection-=account_proyection\n",
    "#                               Insetad, if the proyection is negative, meaning that there is not enough money to fulfill the daily\n",
    "#                               bill, it is subtracted from the total proyection, taking care that the subtracted is distributed over\n",
    "#                               all days of the month.\n",
    "                                else:\n",
    "                                    total_proyection-=account_proyection-(Baccount_proyection-self.__dailybills[i][0])*(Bdays-Bdays_till)/(month_days-self.__days)\n",
    "\n",
    "#                           If the current business days matches the total business days, there is no contribution to total proyection from\n",
    "#                           a unique pay account.\n",
    "                            else:\n",
    "                                total_proyection-=account_proyection\n",
    "                                        \n",
    "#                           Finally, account_proyection stores what is needed to fill the\n",
    "#                           the month bill (negative amount), or the extracharge (positive amount).\n",
    "                            account_proyection*=(month_days-self.__days)\n",
    "                            account_proyection-=(Bdays-Bdays_till)*self.__dailybills[i][0]\n",
    "                                \n",
    "#                       If b_days==False, the proyection is made with the whole days of the month.\n",
    "                        else:\n",
    "#                           If the account is for unique payment, and the proyection is positive, meaning that there is extra\n",
    "#                           charge in the account, it is substracted from the total proyection.\n",
    "                            if account_proyection-self.__dailybills[i][0]>0:\n",
    "                                total_proyection-=account_proyection\n",
    "#                           Insetad, if the proyection is negative, meaning that there is not enough money to fulfill the daily\n",
    "#                           bill, it is subtracted from the total proyection.\n",
    "                            else:\n",
    "                                total_proyection-=self.__dailybills[i][0]\n",
    "\n",
    "#                           Finally, account_proyection stores what what is needed to fill the\n",
    "#                           the month bill (negative amount), or the extracharge (positive amount).\n",
    "                            account_proyection*=(month_days-self.__days)\n",
    "                            account_proyection-=(month_days-self.__days)*self.__dailybills[i][0]\n",
    "        \n",
    "#                   If there is a daily bill without unique pay for the account, the proyection substracs the daily payment. \n",
    "                    else:\n",
    "#                       If b_days==True, the proyection is made with the bussines days only.\n",
    "                        if b_days:\n",
    "                            Bdays=bdays()\n",
    "                            Bdays_till=bdays_til(int(self.__days))\n",
    "#                           Only if the current business days are less than the total business days, calculates the proyection.\n",
    "                            if Bdays>Bdays_till: \n",
    "#                               Bussines days proyection, a auxiliar variable\n",
    "                                Baccount_proyection=(self.__accounts_PG[i][0]-account_bill)/(Bdays-Bdays_till)\n",
    "\n",
    "#                               Total_proyection stores the usual proyection, even if it's negative.\n",
    "                                total_proyection-=account_proyection-(Baccount_proyection-self.__dailybills[i][0])*(Bdays-Bdays_till)/(month_days-self.__days)\n",
    "\n",
    "#                               Account_proyection stores the usual proyection, even if it's negative, taking care that the proyection is\n",
    "#                               over all the days of the month.\n",
    "                                account_proyection=(Baccount_proyection-self.__dailybills[i][0])*(Bdays-Bdays_till)/(month_days-self.__days)\n",
    "                            \n",
    "#                           Instead, if the current business days equals the total business days, this means that the daily payment is covered,\n",
    "#                           and the account proyection can be calculated in the usual way (the account proyection already calculated).\n",
    "                        \n",
    "#                       If b_days==False, the proyection is made with the whole days of the month, just substracting the daily\n",
    "#                       bill.\n",
    "                        else:\n",
    "                            account_proyection-=self.__dailybills[i][0]\n",
    "                            total_proyection-=self.__dailybills[i][0]\n",
    "\n",
    "\n",
    "#           Each account is printed with the name, budget, bill, actual budget and proyection, depending on the daily bill and\n",
    "#           unique payment state of the account, and the number of days passed.\n",
    "            print(\"|\",\"-\"*100,\"|\")\n",
    "            print(\"Cuenta:\",self.__names[i])\n",
    "#           If the account has saving atrivute, the budget will be the profit plus the savings.\n",
    "            if i in self.__savings:\n",
    "                print(\"Ingresos:\",self.__accounts_PG[i][0]+self.__savings[i])\n",
    "            else:\n",
    "                print(\"Ingresos:\",self.__accounts_PG[i][0])\n",
    "            print(\"Gastos:\",account_bill)\n",
    "            print(\"Presupuesto actual:\",self.__accounts_PG[i][0]-account_bill)\n",
    "#           If the account is saving, prints the savings.\n",
    "            if i in self.__savings:\n",
    "                print(f'Ahorro: {self.__savings[i]}\\n')\n",
    "            else: print('\\n')\n",
    "            if(month_days>self.__days):\n",
    "                if i in self.__dailybills:\n",
    "                    if self.__dailybills[i][1] and account_proyection<0:\n",
    "                        print(\"Cargo necesario para completar la cuota mensual:\",-account_proyection,\"\\n\")\n",
    "                    elif self.__dailybills[i][1] and account_proyection>=0:\n",
    "                        print(\"Cargo excedente en la cuenta:\",account_proyection,\"\\n\")\n",
    "                    elif not self.__dailybills[i][1]:\n",
    "                        print(\"Proyección de máximo gasto extra por día:\",account_proyection,\"\\n\")\n",
    "                else:\n",
    "                    print(\"Proyección de máximo gasto extra por día:\",account_proyection,\"\\n\")\n",
    "\n",
    "#       Now it prints the total amounts.\n",
    "        print()\n",
    "        print(\"|\",\"-\"*100,\"|\")\n",
    "        print(\"Ingresos totales:\",total_budget+total_savings)\n",
    "        print(\"Gastos Totales:\",total_bill)\n",
    "        print(\"Presupuesto actual total:\",total_budget-total_bill)\n",
    "        print(f'Ahorro total: {total_savings}\\n')\n",
    "        if(month_days!=self.__days):\n",
    "            print(\"Proyección de máximo gasto total extra por día:\",total_proyection,\"\\n\")\n",
    "              \n",
    "    def save_to_excel(self,name):\n",
    "        \"\"\"A function to store the budget-bill-savings for every account as an existing excel.\"\"\"\n",
    "#       checks that the days and month are correct.\n",
    "        if mdays()>self.__days:\n",
    "            ans=input(f'Number of days:{self.__days} is less than the month, do you want to storage incomplete month data? (y/n)\\n')\n",
    "            if ans=='n':\n",
    "                return 'Terminated'\n",
    "            elif ans!='y':\n",
    "                raise TypeError(f'{ans} not a valid answer.')\n",
    "            \n",
    "        months=['Enero','Febrero','Marzo','Abril','Mayo','Junio',\n",
    "                'Julio','Agosto','Septiembre','Octubre','Noviembre','Diciembre']\n",
    "        \n",
    "        d_year=datetime.datetime.now().year\n",
    "        year=input(f'Default year is set to {d_year}. Want to change the year? (y/n)\\n')\n",
    "        if year=='y':\n",
    "            year=input(f'Enter year:')\n",
    "        elif year=='n':\n",
    "            year=d_year\n",
    "        else:\n",
    "            raise TypeError(f'{month} not a valid answer.')\n",
    "            \n",
    "        d_month=months[datetime.datetime.now().month-1]\n",
    "        month=input(f'Default month is set to {d_month}. Want to change the month? (y/n)\\n')\n",
    "        if month=='y':\n",
    "            month=input(f'Enter month:')\n",
    "            if month not in months:\n",
    "                while month not in months:\n",
    "                    month=input(f'{month} not a month or misspelled. Enter a valid month:{months}')\n",
    "        elif month=='n':\n",
    "            month=d_month\n",
    "        else:\n",
    "            raise TypeError(f'{month} not a valid answer.')\n",
    "            \n",
    "#       Reads the existing .xlsx file.\n",
    "        wb=load_workbook(name)\n",
    "        work_sheet=wb['Datos']\n",
    "                    \n",
    "        for i in self.__savings:\n",
    "#           Account budget is a local variable to store the account budget: Entry payments and savings.\n",
    "            account_budget=self.__accounts_PG[i][0]\n",
    "            account_budget+=self.__savings[i]\n",
    "#           Account bill is a local variable to store the account bill: spent by constant and non constnat payments.\n",
    "            account_bill=self.__accounts_PG[i][1]\n",
    "#           If the directoy item length is grater than 2, it means it has constant bills that are store.\n",
    "            if len(self.__accounts_PG[i])>2:\n",
    "                 for j in range(2,len(self.__accounts_PG[i])):\n",
    "                    account_bill+=self.__accounts_PG[i][j][0]*self.__accounts_PG[i][j][1]\n",
    "#           Savings is a variable to store the savings left at the end of the month.\n",
    "            account_savings=account_budget-account_bill\n",
    "#           Appends the new row with budget-bill-savings, year and month info.\n",
    "            work_sheet.append([year,month,self.__names[i],account_budget,account_bill,account_savings])\n",
    "#       Saves the excel.\n",
    "        wb.save(name)\n",
    "        \n",
    "        return f'File save with name {name}.'\n",
    "    \n",
    "    def daily_graph(self,name):\n",
    "        f=open('data.txt','r')\n",
    "        x=f.read().split('\\n')\n",
    "        f.close()\n",
    "        f=open('data.txt','r')\n",
    "        notes=f.read()\n",
    "        f.close()\n",
    "\n",
    "        mode=[]\n",
    "        daily_bb=[]\n",
    "        days=[]\n",
    "        day=0\n",
    "\n",
    "        for i in x:\n",
    "            if '#' in i:\n",
    "                i=i[:i.index('#')].strip(' ')\n",
    "            if 'd' in i:\n",
    "                if i[1:]=='':\n",
    "                    day+=1\n",
    "                else:\n",
    "                    day+=int(i[1:])\n",
    "                days.append(day)\n",
    "                daily_bb.append([0,0])\n",
    "            if day!=0:\n",
    "                if is_float(i):\n",
    "                    if mode[0]<2:\n",
    "                        daily_bb[-1][mode[0]]+=float(i)\n",
    "                elif i=='':pass\n",
    "                else:\n",
    "                    mode=a.set_mode(i,0)\n",
    "                    if mode[0]>4:\n",
    "                        command=self.__command_letters[mode[0]]\n",
    "                        daily_bb[-1][1]+=self.__accounts_PG[self.__constbills[command][0]][2][1]*mode[1]\n",
    "        \n",
    "        i=0\n",
    "        aux=[0,0]\n",
    "        \n",
    "        while i<len(days):\n",
    "            if daily_bb[i]==[0,0]:\n",
    "                del daily_bb[i]\n",
    "                del days[i]\n",
    "                i-=1\n",
    "            if daily_bb[i][0]<0:\n",
    "                aux[0]+=daily_bb[i][0]\n",
    "                aux[1]+=daily_bb[i][0]\n",
    "                daily_bb[i][1]-=daily_bb[i][0]\n",
    "                daily_bb[i][0]=0\n",
    "            if daily_bb[i][1]<0:\n",
    "                aux[1]+=daily_bb[i][1]\n",
    "                aux[0]+=daily_bb[i][1]\n",
    "                daily_bb[i][0]-=daily_bb[i][1]\n",
    "                daily_bb[i][1]=0\n",
    "            i+=1\n",
    "            \n",
    "        daily_bb=np.array(daily_bb)\n",
    "        \n",
    "        notes=notes[notes.index('d')+1:].split('\\nd')\n",
    "        if not '\\n' in notes[-1]: notes.pop(-1)\n",
    "\n",
    "        notes=[i[i.index('\\n')+1:] for i in notes]\n",
    "        while '' in notes:\n",
    "            notes.remove('')\n",
    "\n",
    "        for i in range(len(notes)):\n",
    "            if notes[i][-1]=='\\n':\n",
    "                notes[i]=notes[i][:-1]\n",
    "            notes[i]=notes[i].replace('\\n','<br>')\n",
    "        \n",
    "        print(f'Valor promedio de gasto por día: {(sum(daily_bb[:,1])+aux[1])/day}')\n",
    "        \n",
    "        fig = go.Figure(data=[\n",
    "            go.Bar(name='Budget', x=days, y=daily_bb[:,0],text=notes,marker=dict(color='blue')),\n",
    "            go.Bar(name='Bill', x=days, y=daily_bb[:,1],text=notes,marker=dict(color='orange'))\n",
    "        ])\n",
    "        \n",
    "        fig.update_layout(barmode='group')\n",
    "        fig.update_traces(textposition='none')\n",
    "        fig.show()\n",
    "        \n",
    "        a_b=(sum(daily_bb[:,0])+aux[0]-sum(daily_bb[:,1])-aux[1])/(sum(daily_bb[:,0])+aux[0])*100\n",
    "        b=(sum(daily_bb[:,1])+aux[1])/(sum(daily_bb[:,0])+aux[0])*100\n",
    "        if a_b>=0 and b>=0:\n",
    "            plt.figure()\n",
    "            plt.pie([a_b,b],startangle=90,labels=['Ahorros','Gastos'],autopct='%1.2f%%')\n",
    "            plt.show()\n",
    "        else:\n",
    "            print(f'Not enough bill or saves to make pie chart.\\n'\n",
    "                 f'Saves={a_b}\\nBill={b}')\n",
    "\n",
    "    def show_dict(self):\n",
    "        \"\"\"a funtion to print the dictionaries: accounts, account names, constbills and daily bills.\"\"\"\n",
    "        print(\"Accounts: \",self.__accounts_PG)\n",
    "        print(f'Account names: {self.__names}')\n",
    "        print(\"Constant Bills: \",self.__constbills)\n",
    "        print(\"Daily Bills: \",self.__dailybills)\n",
    "        print(\"Savings: \",self.__savings)\n",
    "\n",
    "    def show_commands(self):\n",
    "        \"\"\"a funtion to print the account names and commands.\"\"\"\n",
    "        print(self.__command_letters)\n",
    "\n",
    "    def rules(self):\n",
    "        \"\"\"a function to print the rules of the commands to build the txt info\"\"\"\n",
    "        print(\"-\"*50,\"FILE RULES\",\"-\"*50,\"\\n\"\n",
    "             \"File sintax: budget-savings-bill txt must be written following the sintax\\n\\n\"\n",
    "             \"1. Command line: first letter for the command defines the action and the rest of the command\"\n",
    "              \" specifies account and details\\n\"\n",
    "             \"2. Value associated with the command\\n\\n\"\n",
    "             \"Commands:\\n\"\n",
    "             \"P[]: use to charge the account [] a budget.\\n\"\n",
    "             \"G[]: use to charge the account [] a bill.\\n\"\n",
    "             \"T[1]-[2]: use to change a budget from [1] to [2]. [1] or [2] can be either accounts or saving accounts.\\n\"\n",
    "             'A[]: used to specify if the amount is attached to the savings atribute of [].\\n'\n",
    "             \"d[n]: use to set [n] new days (n=1 by default).\")\n",
    "        \n",
    "        if len(self.__command_letters)>5:\n",
    "            for i in self.__command_letters[5:]:\n",
    "                print(f\"{i}[n]: use to set [n] constant bills for the {self.__constbills[i][0]} account (n=1 by default).\")\n",
    "        print('\\nThe character \\'#\\' can be used to put comments about the budgets of bills.\\n')\n",
    "        print(\"\\nExample:\\n\")\n",
    "        names=self.__names\n",
    "        com=self.__command_letters\n",
    "        com_1=com[:3]\n",
    "        com_2=com[5:]\n",
    "\n",
    "        for i in range(3):\n",
    "            l=list(names)\n",
    "            rd.shuffle(com_1)\n",
    "            print('d',end='')\n",
    "            prob_print(int(rd.uniform(2,5)),50)\n",
    "            print()\n",
    "            if len(com_2)>0:\n",
    "                print(f'{com_2[0]}{int(rd.uniform(2,10))}')\n",
    "            for j in range(3):\n",
    "                rd.shuffle(l)\n",
    "                rd.shuffle(com_2)\n",
    "                if com_1[j]=='T' and len(l)>1:\n",
    "                    print(f'{com_1[j]}{l[0]}-',end='')\n",
    "                    prob_print('A',45)\n",
    "                    print(f'{l[1]}\\n{int(rd.uniform(0,10000))*50}',end='')\n",
    "                    if int(rd.uniform(0,10))<3:\n",
    "                        print(' # Transaction description')\n",
    "                    else:\n",
    "                        print()\n",
    "                elif com_1[j]!='T':\n",
    "                    print(f'{com_1[j]}',end='')\n",
    "                    prob_print('A',45)\n",
    "                    print(f'{l[0]}\\n{int(rd.uniform(0,10000))*50}',end='')\n",
    "                    if int(rd.uniform(0,10))<3:\n",
    "                        if com_1[j]=='P':\n",
    "                            print(' # Budget description')\n",
    "                        elif com_1[j]=='G':\n",
    "                            print(' # Bill description')\n",
    "                    else:\n",
    "                        print()\n",
    "            print()\n",
    "\n",
    "\n",
    "    \n",
    "# funciones globales------------------------------------------------------------------------------------------------------------\n",
    "def count_lines(name):\n",
    "    \"\"\"Function that gives the leng of a .txt in lines.\"\"\"\n",
    "    f=open(name,\"r\")\n",
    "    x=f.readlines()\n",
    "    f.close()\n",
    "    return len(x)\n",
    "\n",
    "def is_float(x):\n",
    "    \"\"\"Function that gives a boolean for float numbers.\"\"\"\n",
    "    try:\n",
    "        float(x)\n",
    "        return True\n",
    "    except ValueError:\n",
    "        return False\n",
    "\n",
    "def mdays():\n",
    "    \"\"\"Function that gives the days of the actual month.\"\"\"\n",
    "    now = datetime.datetime.now()\n",
    "    return calendar.monthrange(now.year, now.month)[1]\n",
    "\n",
    "def bdays():\n",
    "    \"\"\"Function that gives the bussines days of the actual month.\"\"\"\n",
    "    now=datetime.datetime.now()\n",
    "    cal=calendar.Calendar()\n",
    "    return len([x for x in cal.itermonthdays2(now.year,now.month) if x[0] !=0 and x[1] < 5])\n",
    "\n",
    "def bdays_til(day):\n",
    "    \"\"\"Function that gives the bussines days until a especific day of the actual month.\"\"\"\n",
    "    if day==0:\n",
    "        return 0\n",
    "    else:\n",
    "        now = datetime.datetime.now()\n",
    "        year=str(now.year)\n",
    "        month=str(now.month)\n",
    "        if len(month)==1:\n",
    "            month='0'+month\n",
    "        aux_day=str(day)\n",
    "        if len(aux_day)==1:\n",
    "            aux_day='0'+aux_day\n",
    "        lastday=lambda x: 1 if np.is_busday(x) else 0\n",
    "\n",
    "        return np.busday_count(year+'-'+month,year+'-'+month+'-'+aux_day)+lastday(year+'-'+month+'-'+aux_day)\n",
    "\n",
    "def prob_print(string,prob):\n",
    "    \"\"\"A function to print a string with certain probability P from 0 to 100\"\"\"\n",
    "    if int(rd.uniform(0,100))<=prob:\n",
    "        print(string,end='')"
   ]
  },
  {
   "cell_type": "code",
   "execution_count": 38,
   "id": "de672269",
   "metadata": {
    "scrolled": false
   },
   "outputs": [
    {
     "name": "stdout",
     "output_type": "stream",
     "text": [
      "Dias: 7 de 31\n",
      "\n",
      "| ---------------------------------------------------------------------------------------------------- |\n",
      "Cuenta: Bancolombia\n",
      "Ingresos: 0.0\n",
      "Gastos: 1106096.0\n",
      "Presupuesto actual: 283714.0\n",
      "Ahorro: -1389810.0\n",
      "\n",
      "Proyección de máximo gasto extra por día: 11821.416666666666 \n",
      "\n",
      "| ---------------------------------------------------------------------------------------------------- |\n",
      "Cuenta: Nequi\n",
      "Ingresos: 0.0\n",
      "Gastos: -63200.0\n",
      "Presupuesto actual: 63200.0\n",
      "\n",
      "\n",
      "Proyección de máximo gasto extra por día: 2633.3333333333335 \n",
      "\n",
      "| ---------------------------------------------------------------------------------------------------- |\n",
      "Cuenta: Sitp\n",
      "Ingresos: 0.0\n",
      "Gastos: 0.0\n",
      "Presupuesto actual: 0.0\n",
      "\n",
      "\n",
      "Cargo necesario para completar la cuota mensual: 102400.0 \n",
      "\n",
      "| ---------------------------------------------------------------------------------------------------- |\n",
      "Cuenta: Efectivo\n",
      "Ingresos: 0.0\n",
      "Gastos: -81200.0\n",
      "Presupuesto actual: 81200.0\n",
      "\n",
      "\n",
      "Proyección de máximo gasto extra por día: 3383.3333333333335 \n",
      "\n",
      "| ---------------------------------------------------------------------------------------------------- |\n",
      "Cuenta: Lulo\n",
      "Ingresos: 78263.0\n",
      "Gastos: 0.0\n",
      "Presupuesto actual: 78263.0\n",
      "Ahorro: 0.0\n",
      "\n",
      "Proyección de máximo gasto extra por día: 3260.9583333333335 \n",
      "\n",
      "\n",
      "| ---------------------------------------------------------------------------------------------------- |\n",
      "Ingresos totales: 78263.0\n",
      "Gastos Totales: 961696.0\n",
      "Presupuesto actual total: 506377.0\n",
      "Ahorro total: -1389810.0\n",
      "\n",
      "Proyección de máximo gasto total extra por día: 16832.375 \n",
      "\n"
     ]
    }
   ],
   "source": [
    "accounts=[[\"Bancolombia\",\"B\"],\n",
    "          [\"Nequi\",\"N\"],\n",
    "          [\"Sitp\",\"S\"],\n",
    "          [\"Efectivo\",\"E\"],\n",
    "          ['Lulo','L']]\n",
    "\n",
    "a=Organizer(accounts)\n",
    "a.set_constbill(\"S\",3200)\n",
    "a.set_dailybill(\"S\",6400)\n",
    "a.set_uniquepay(\"S\")\n",
    "\n",
    "a.set_constbill('B',3200)\n",
    "a.set_savingaccount('B')\n",
    "\n",
    "a.set_savingaccount('L')\n",
    "\n",
    "a.read(\"data.txt\",b_days=True)\n",
    "# a.show_dict()\n",
    "# a.show_commands()"
   ]
  },
  {
   "cell_type": "code",
   "execution_count": 39,
   "id": "311cfbb4",
   "metadata": {
    "scrolled": false
   },
   "outputs": [
    {
     "name": "stdout",
     "output_type": "stream",
     "text": [
      "Valor promedio de gasto por día: 137385.14285714287\n"
     ]
    },
    {
     "data": {
      "application/vnd.plotly.v1+json": {
       "config": {
        "plotlyServerURL": "https://plot.ly"
       },
       "data": [
        {
         "marker": {
          "color": "blue"
         },
         "name": "Budget",
         "text": [
          "#balanceo del mes anterior<br>GE<br>-130400<br>GN<br>-15200<br>GB<br>-2<br>PL<br>78263 #intereses lulo",
          "GN<br>-28000 #pago por almuerzo ayer<br>GE<br>#desayuno<br>14000<br>15000<br>#carro angela<br>15000",
          "GN<br>-20000 #pencil<br>GAB<br>189810 #pencil y pantalla",
          "GE<br>5200 #desayuno<br>TAB-B<br>200000<br>300000<br>GB<br>89200 #wok mama<br>35000 #esfera regalo<br>161888 #aceite de ducha<br>77000 #marco gafas",
          "b3<br>TAB-B<br>500000<br>200000<br>GB<br>330300 #gafas de la china<br>200700 #gafas<br>9400 #jugo y pasabocas",
          "b"
         ],
         "textposition": "none",
         "type": "bar",
         "x": [
          1,
          2,
          3,
          5,
          6,
          7
         ],
         "y": [
          223865,
          0,
          0,
          0,
          0,
          0
         ]
        },
        {
         "marker": {
          "color": "orange"
         },
         "name": "Bill",
         "text": [
          "#balanceo del mes anterior<br>GE<br>-130400<br>GN<br>-15200<br>GB<br>-2<br>PL<br>78263 #intereses lulo",
          "GN<br>-28000 #pago por almuerzo ayer<br>GE<br>#desayuno<br>14000<br>15000<br>#carro angela<br>15000",
          "GN<br>-20000 #pencil<br>GAB<br>189810 #pencil y pantalla",
          "GE<br>5200 #desayuno<br>TAB-B<br>200000<br>300000<br>GB<br>89200 #wok mama<br>35000 #esfera regalo<br>161888 #aceite de ducha<br>77000 #marco gafas",
          "b3<br>TAB-B<br>500000<br>200000<br>GB<br>330300 #gafas de la china<br>200700 #gafas<br>9400 #jugo y pasabocas",
          "b"
         ],
         "textposition": "none",
         "type": "bar",
         "x": [
          1,
          2,
          3,
          5,
          6,
          7
         ],
         "y": [
          0,
          16000,
          169810,
          368288,
          550000,
          3200
         ]
        }
       ],
       "layout": {
        "barmode": "group",
        "template": {
         "data": {
          "bar": [
           {
            "error_x": {
             "color": "#2a3f5f"
            },
            "error_y": {
             "color": "#2a3f5f"
            },
            "marker": {
             "line": {
              "color": "#E5ECF6",
              "width": 0.5
             },
             "pattern": {
              "fillmode": "overlay",
              "size": 10,
              "solidity": 0.2
             }
            },
            "type": "bar"
           }
          ],
          "barpolar": [
           {
            "marker": {
             "line": {
              "color": "#E5ECF6",
              "width": 0.5
             },
             "pattern": {
              "fillmode": "overlay",
              "size": 10,
              "solidity": 0.2
             }
            },
            "type": "barpolar"
           }
          ],
          "carpet": [
           {
            "aaxis": {
             "endlinecolor": "#2a3f5f",
             "gridcolor": "white",
             "linecolor": "white",
             "minorgridcolor": "white",
             "startlinecolor": "#2a3f5f"
            },
            "baxis": {
             "endlinecolor": "#2a3f5f",
             "gridcolor": "white",
             "linecolor": "white",
             "minorgridcolor": "white",
             "startlinecolor": "#2a3f5f"
            },
            "type": "carpet"
           }
          ],
          "choropleth": [
           {
            "colorbar": {
             "outlinewidth": 0,
             "ticks": ""
            },
            "type": "choropleth"
           }
          ],
          "contour": [
           {
            "colorbar": {
             "outlinewidth": 0,
             "ticks": ""
            },
            "colorscale": [
             [
              0,
              "#0d0887"
             ],
             [
              0.1111111111111111,
              "#46039f"
             ],
             [
              0.2222222222222222,
              "#7201a8"
             ],
             [
              0.3333333333333333,
              "#9c179e"
             ],
             [
              0.4444444444444444,
              "#bd3786"
             ],
             [
              0.5555555555555556,
              "#d8576b"
             ],
             [
              0.6666666666666666,
              "#ed7953"
             ],
             [
              0.7777777777777778,
              "#fb9f3a"
             ],
             [
              0.8888888888888888,
              "#fdca26"
             ],
             [
              1,
              "#f0f921"
             ]
            ],
            "type": "contour"
           }
          ],
          "contourcarpet": [
           {
            "colorbar": {
             "outlinewidth": 0,
             "ticks": ""
            },
            "type": "contourcarpet"
           }
          ],
          "heatmap": [
           {
            "colorbar": {
             "outlinewidth": 0,
             "ticks": ""
            },
            "colorscale": [
             [
              0,
              "#0d0887"
             ],
             [
              0.1111111111111111,
              "#46039f"
             ],
             [
              0.2222222222222222,
              "#7201a8"
             ],
             [
              0.3333333333333333,
              "#9c179e"
             ],
             [
              0.4444444444444444,
              "#bd3786"
             ],
             [
              0.5555555555555556,
              "#d8576b"
             ],
             [
              0.6666666666666666,
              "#ed7953"
             ],
             [
              0.7777777777777778,
              "#fb9f3a"
             ],
             [
              0.8888888888888888,
              "#fdca26"
             ],
             [
              1,
              "#f0f921"
             ]
            ],
            "type": "heatmap"
           }
          ],
          "heatmapgl": [
           {
            "colorbar": {
             "outlinewidth": 0,
             "ticks": ""
            },
            "colorscale": [
             [
              0,
              "#0d0887"
             ],
             [
              0.1111111111111111,
              "#46039f"
             ],
             [
              0.2222222222222222,
              "#7201a8"
             ],
             [
              0.3333333333333333,
              "#9c179e"
             ],
             [
              0.4444444444444444,
              "#bd3786"
             ],
             [
              0.5555555555555556,
              "#d8576b"
             ],
             [
              0.6666666666666666,
              "#ed7953"
             ],
             [
              0.7777777777777778,
              "#fb9f3a"
             ],
             [
              0.8888888888888888,
              "#fdca26"
             ],
             [
              1,
              "#f0f921"
             ]
            ],
            "type": "heatmapgl"
           }
          ],
          "histogram": [
           {
            "marker": {
             "pattern": {
              "fillmode": "overlay",
              "size": 10,
              "solidity": 0.2
             }
            },
            "type": "histogram"
           }
          ],
          "histogram2d": [
           {
            "colorbar": {
             "outlinewidth": 0,
             "ticks": ""
            },
            "colorscale": [
             [
              0,
              "#0d0887"
             ],
             [
              0.1111111111111111,
              "#46039f"
             ],
             [
              0.2222222222222222,
              "#7201a8"
             ],
             [
              0.3333333333333333,
              "#9c179e"
             ],
             [
              0.4444444444444444,
              "#bd3786"
             ],
             [
              0.5555555555555556,
              "#d8576b"
             ],
             [
              0.6666666666666666,
              "#ed7953"
             ],
             [
              0.7777777777777778,
              "#fb9f3a"
             ],
             [
              0.8888888888888888,
              "#fdca26"
             ],
             [
              1,
              "#f0f921"
             ]
            ],
            "type": "histogram2d"
           }
          ],
          "histogram2dcontour": [
           {
            "colorbar": {
             "outlinewidth": 0,
             "ticks": ""
            },
            "colorscale": [
             [
              0,
              "#0d0887"
             ],
             [
              0.1111111111111111,
              "#46039f"
             ],
             [
              0.2222222222222222,
              "#7201a8"
             ],
             [
              0.3333333333333333,
              "#9c179e"
             ],
             [
              0.4444444444444444,
              "#bd3786"
             ],
             [
              0.5555555555555556,
              "#d8576b"
             ],
             [
              0.6666666666666666,
              "#ed7953"
             ],
             [
              0.7777777777777778,
              "#fb9f3a"
             ],
             [
              0.8888888888888888,
              "#fdca26"
             ],
             [
              1,
              "#f0f921"
             ]
            ],
            "type": "histogram2dcontour"
           }
          ],
          "mesh3d": [
           {
            "colorbar": {
             "outlinewidth": 0,
             "ticks": ""
            },
            "type": "mesh3d"
           }
          ],
          "parcoords": [
           {
            "line": {
             "colorbar": {
              "outlinewidth": 0,
              "ticks": ""
             }
            },
            "type": "parcoords"
           }
          ],
          "pie": [
           {
            "automargin": true,
            "type": "pie"
           }
          ],
          "scatter": [
           {
            "fillpattern": {
             "fillmode": "overlay",
             "size": 10,
             "solidity": 0.2
            },
            "type": "scatter"
           }
          ],
          "scatter3d": [
           {
            "line": {
             "colorbar": {
              "outlinewidth": 0,
              "ticks": ""
             }
            },
            "marker": {
             "colorbar": {
              "outlinewidth": 0,
              "ticks": ""
             }
            },
            "type": "scatter3d"
           }
          ],
          "scattercarpet": [
           {
            "marker": {
             "colorbar": {
              "outlinewidth": 0,
              "ticks": ""
             }
            },
            "type": "scattercarpet"
           }
          ],
          "scattergeo": [
           {
            "marker": {
             "colorbar": {
              "outlinewidth": 0,
              "ticks": ""
             }
            },
            "type": "scattergeo"
           }
          ],
          "scattergl": [
           {
            "marker": {
             "colorbar": {
              "outlinewidth": 0,
              "ticks": ""
             }
            },
            "type": "scattergl"
           }
          ],
          "scattermapbox": [
           {
            "marker": {
             "colorbar": {
              "outlinewidth": 0,
              "ticks": ""
             }
            },
            "type": "scattermapbox"
           }
          ],
          "scatterpolar": [
           {
            "marker": {
             "colorbar": {
              "outlinewidth": 0,
              "ticks": ""
             }
            },
            "type": "scatterpolar"
           }
          ],
          "scatterpolargl": [
           {
            "marker": {
             "colorbar": {
              "outlinewidth": 0,
              "ticks": ""
             }
            },
            "type": "scatterpolargl"
           }
          ],
          "scatterternary": [
           {
            "marker": {
             "colorbar": {
              "outlinewidth": 0,
              "ticks": ""
             }
            },
            "type": "scatterternary"
           }
          ],
          "surface": [
           {
            "colorbar": {
             "outlinewidth": 0,
             "ticks": ""
            },
            "colorscale": [
             [
              0,
              "#0d0887"
             ],
             [
              0.1111111111111111,
              "#46039f"
             ],
             [
              0.2222222222222222,
              "#7201a8"
             ],
             [
              0.3333333333333333,
              "#9c179e"
             ],
             [
              0.4444444444444444,
              "#bd3786"
             ],
             [
              0.5555555555555556,
              "#d8576b"
             ],
             [
              0.6666666666666666,
              "#ed7953"
             ],
             [
              0.7777777777777778,
              "#fb9f3a"
             ],
             [
              0.8888888888888888,
              "#fdca26"
             ],
             [
              1,
              "#f0f921"
             ]
            ],
            "type": "surface"
           }
          ],
          "table": [
           {
            "cells": {
             "fill": {
              "color": "#EBF0F8"
             },
             "line": {
              "color": "white"
             }
            },
            "header": {
             "fill": {
              "color": "#C8D4E3"
             },
             "line": {
              "color": "white"
             }
            },
            "type": "table"
           }
          ]
         },
         "layout": {
          "annotationdefaults": {
           "arrowcolor": "#2a3f5f",
           "arrowhead": 0,
           "arrowwidth": 1
          },
          "autotypenumbers": "strict",
          "coloraxis": {
           "colorbar": {
            "outlinewidth": 0,
            "ticks": ""
           }
          },
          "colorscale": {
           "diverging": [
            [
             0,
             "#8e0152"
            ],
            [
             0.1,
             "#c51b7d"
            ],
            [
             0.2,
             "#de77ae"
            ],
            [
             0.3,
             "#f1b6da"
            ],
            [
             0.4,
             "#fde0ef"
            ],
            [
             0.5,
             "#f7f7f7"
            ],
            [
             0.6,
             "#e6f5d0"
            ],
            [
             0.7,
             "#b8e186"
            ],
            [
             0.8,
             "#7fbc41"
            ],
            [
             0.9,
             "#4d9221"
            ],
            [
             1,
             "#276419"
            ]
           ],
           "sequential": [
            [
             0,
             "#0d0887"
            ],
            [
             0.1111111111111111,
             "#46039f"
            ],
            [
             0.2222222222222222,
             "#7201a8"
            ],
            [
             0.3333333333333333,
             "#9c179e"
            ],
            [
             0.4444444444444444,
             "#bd3786"
            ],
            [
             0.5555555555555556,
             "#d8576b"
            ],
            [
             0.6666666666666666,
             "#ed7953"
            ],
            [
             0.7777777777777778,
             "#fb9f3a"
            ],
            [
             0.8888888888888888,
             "#fdca26"
            ],
            [
             1,
             "#f0f921"
            ]
           ],
           "sequentialminus": [
            [
             0,
             "#0d0887"
            ],
            [
             0.1111111111111111,
             "#46039f"
            ],
            [
             0.2222222222222222,
             "#7201a8"
            ],
            [
             0.3333333333333333,
             "#9c179e"
            ],
            [
             0.4444444444444444,
             "#bd3786"
            ],
            [
             0.5555555555555556,
             "#d8576b"
            ],
            [
             0.6666666666666666,
             "#ed7953"
            ],
            [
             0.7777777777777778,
             "#fb9f3a"
            ],
            [
             0.8888888888888888,
             "#fdca26"
            ],
            [
             1,
             "#f0f921"
            ]
           ]
          },
          "colorway": [
           "#636efa",
           "#EF553B",
           "#00cc96",
           "#ab63fa",
           "#FFA15A",
           "#19d3f3",
           "#FF6692",
           "#B6E880",
           "#FF97FF",
           "#FECB52"
          ],
          "font": {
           "color": "#2a3f5f"
          },
          "geo": {
           "bgcolor": "white",
           "lakecolor": "white",
           "landcolor": "#E5ECF6",
           "showlakes": true,
           "showland": true,
           "subunitcolor": "white"
          },
          "hoverlabel": {
           "align": "left"
          },
          "hovermode": "closest",
          "mapbox": {
           "style": "light"
          },
          "paper_bgcolor": "white",
          "plot_bgcolor": "#E5ECF6",
          "polar": {
           "angularaxis": {
            "gridcolor": "white",
            "linecolor": "white",
            "ticks": ""
           },
           "bgcolor": "#E5ECF6",
           "radialaxis": {
            "gridcolor": "white",
            "linecolor": "white",
            "ticks": ""
           }
          },
          "scene": {
           "xaxis": {
            "backgroundcolor": "#E5ECF6",
            "gridcolor": "white",
            "gridwidth": 2,
            "linecolor": "white",
            "showbackground": true,
            "ticks": "",
            "zerolinecolor": "white"
           },
           "yaxis": {
            "backgroundcolor": "#E5ECF6",
            "gridcolor": "white",
            "gridwidth": 2,
            "linecolor": "white",
            "showbackground": true,
            "ticks": "",
            "zerolinecolor": "white"
           },
           "zaxis": {
            "backgroundcolor": "#E5ECF6",
            "gridcolor": "white",
            "gridwidth": 2,
            "linecolor": "white",
            "showbackground": true,
            "ticks": "",
            "zerolinecolor": "white"
           }
          },
          "shapedefaults": {
           "line": {
            "color": "#2a3f5f"
           }
          },
          "ternary": {
           "aaxis": {
            "gridcolor": "white",
            "linecolor": "white",
            "ticks": ""
           },
           "baxis": {
            "gridcolor": "white",
            "linecolor": "white",
            "ticks": ""
           },
           "bgcolor": "#E5ECF6",
           "caxis": {
            "gridcolor": "white",
            "linecolor": "white",
            "ticks": ""
           }
          },
          "title": {
           "x": 0.05
          },
          "xaxis": {
           "automargin": true,
           "gridcolor": "white",
           "linecolor": "white",
           "ticks": "",
           "title": {
            "standoff": 15
           },
           "zerolinecolor": "white",
           "zerolinewidth": 2
          },
          "yaxis": {
           "automargin": true,
           "gridcolor": "white",
           "linecolor": "white",
           "ticks": "",
           "title": {
            "standoff": 15
           },
           "zerolinecolor": "white",
           "zerolinewidth": 2
          }
         }
        }
       }
      },
      "text/html": [
       "<div>                            <div id=\"51b2f691-1806-46a4-86dd-68fcd5711311\" class=\"plotly-graph-div\" style=\"height:525px; width:100%;\"></div>            <script type=\"text/javascript\">                require([\"plotly\"], function(Plotly) {                    window.PLOTLYENV=window.PLOTLYENV || {};                                    if (document.getElementById(\"51b2f691-1806-46a4-86dd-68fcd5711311\")) {                    Plotly.newPlot(                        \"51b2f691-1806-46a4-86dd-68fcd5711311\",                        [{\"marker\":{\"color\":\"blue\"},\"name\":\"Budget\",\"text\":[\"#balanceo del mes anterior<br>GE<br>-130400<br>GN<br>-15200<br>GB<br>-2<br>PL<br>78263 #intereses lulo\",\"GN<br>-28000 #pago por almuerzo ayer<br>GE<br>#desayuno<br>14000<br>15000<br>#carro angela<br>15000\",\"GN<br>-20000 #pencil<br>GAB<br>189810 #pencil y pantalla\",\"GE<br>5200 #desayuno<br>TAB-B<br>200000<br>300000<br>GB<br>89200 #wok mama<br>35000 #esfera regalo<br>161888 #aceite de ducha<br>77000 #marco gafas\",\"b3<br>TAB-B<br>500000<br>200000<br>GB<br>330300 #gafas de la china<br>200700 #gafas<br>9400 #jugo y pasabocas\",\"b\"],\"x\":[1,2,3,5,6,7],\"y\":[223865.0,0.0,0.0,0.0,0.0,0.0],\"type\":\"bar\",\"textposition\":\"none\"},{\"marker\":{\"color\":\"orange\"},\"name\":\"Bill\",\"text\":[\"#balanceo del mes anterior<br>GE<br>-130400<br>GN<br>-15200<br>GB<br>-2<br>PL<br>78263 #intereses lulo\",\"GN<br>-28000 #pago por almuerzo ayer<br>GE<br>#desayuno<br>14000<br>15000<br>#carro angela<br>15000\",\"GN<br>-20000 #pencil<br>GAB<br>189810 #pencil y pantalla\",\"GE<br>5200 #desayuno<br>TAB-B<br>200000<br>300000<br>GB<br>89200 #wok mama<br>35000 #esfera regalo<br>161888 #aceite de ducha<br>77000 #marco gafas\",\"b3<br>TAB-B<br>500000<br>200000<br>GB<br>330300 #gafas de la china<br>200700 #gafas<br>9400 #jugo y pasabocas\",\"b\"],\"x\":[1,2,3,5,6,7],\"y\":[0.0,16000.0,169810.0,368288.0,550000.0,3200.0],\"type\":\"bar\",\"textposition\":\"none\"}],                        {\"template\":{\"data\":{\"histogram2dcontour\":[{\"type\":\"histogram2dcontour\",\"colorbar\":{\"outlinewidth\":0,\"ticks\":\"\"},\"colorscale\":[[0.0,\"#0d0887\"],[0.1111111111111111,\"#46039f\"],[0.2222222222222222,\"#7201a8\"],[0.3333333333333333,\"#9c179e\"],[0.4444444444444444,\"#bd3786\"],[0.5555555555555556,\"#d8576b\"],[0.6666666666666666,\"#ed7953\"],[0.7777777777777778,\"#fb9f3a\"],[0.8888888888888888,\"#fdca26\"],[1.0,\"#f0f921\"]]}],\"choropleth\":[{\"type\":\"choropleth\",\"colorbar\":{\"outlinewidth\":0,\"ticks\":\"\"}}],\"histogram2d\":[{\"type\":\"histogram2d\",\"colorbar\":{\"outlinewidth\":0,\"ticks\":\"\"},\"colorscale\":[[0.0,\"#0d0887\"],[0.1111111111111111,\"#46039f\"],[0.2222222222222222,\"#7201a8\"],[0.3333333333333333,\"#9c179e\"],[0.4444444444444444,\"#bd3786\"],[0.5555555555555556,\"#d8576b\"],[0.6666666666666666,\"#ed7953\"],[0.7777777777777778,\"#fb9f3a\"],[0.8888888888888888,\"#fdca26\"],[1.0,\"#f0f921\"]]}],\"heatmap\":[{\"type\":\"heatmap\",\"colorbar\":{\"outlinewidth\":0,\"ticks\":\"\"},\"colorscale\":[[0.0,\"#0d0887\"],[0.1111111111111111,\"#46039f\"],[0.2222222222222222,\"#7201a8\"],[0.3333333333333333,\"#9c179e\"],[0.4444444444444444,\"#bd3786\"],[0.5555555555555556,\"#d8576b\"],[0.6666666666666666,\"#ed7953\"],[0.7777777777777778,\"#fb9f3a\"],[0.8888888888888888,\"#fdca26\"],[1.0,\"#f0f921\"]]}],\"heatmapgl\":[{\"type\":\"heatmapgl\",\"colorbar\":{\"outlinewidth\":0,\"ticks\":\"\"},\"colorscale\":[[0.0,\"#0d0887\"],[0.1111111111111111,\"#46039f\"],[0.2222222222222222,\"#7201a8\"],[0.3333333333333333,\"#9c179e\"],[0.4444444444444444,\"#bd3786\"],[0.5555555555555556,\"#d8576b\"],[0.6666666666666666,\"#ed7953\"],[0.7777777777777778,\"#fb9f3a\"],[0.8888888888888888,\"#fdca26\"],[1.0,\"#f0f921\"]]}],\"contourcarpet\":[{\"type\":\"contourcarpet\",\"colorbar\":{\"outlinewidth\":0,\"ticks\":\"\"}}],\"contour\":[{\"type\":\"contour\",\"colorbar\":{\"outlinewidth\":0,\"ticks\":\"\"},\"colorscale\":[[0.0,\"#0d0887\"],[0.1111111111111111,\"#46039f\"],[0.2222222222222222,\"#7201a8\"],[0.3333333333333333,\"#9c179e\"],[0.4444444444444444,\"#bd3786\"],[0.5555555555555556,\"#d8576b\"],[0.6666666666666666,\"#ed7953\"],[0.7777777777777778,\"#fb9f3a\"],[0.8888888888888888,\"#fdca26\"],[1.0,\"#f0f921\"]]}],\"surface\":[{\"type\":\"surface\",\"colorbar\":{\"outlinewidth\":0,\"ticks\":\"\"},\"colorscale\":[[0.0,\"#0d0887\"],[0.1111111111111111,\"#46039f\"],[0.2222222222222222,\"#7201a8\"],[0.3333333333333333,\"#9c179e\"],[0.4444444444444444,\"#bd3786\"],[0.5555555555555556,\"#d8576b\"],[0.6666666666666666,\"#ed7953\"],[0.7777777777777778,\"#fb9f3a\"],[0.8888888888888888,\"#fdca26\"],[1.0,\"#f0f921\"]]}],\"mesh3d\":[{\"type\":\"mesh3d\",\"colorbar\":{\"outlinewidth\":0,\"ticks\":\"\"}}],\"scatter\":[{\"fillpattern\":{\"fillmode\":\"overlay\",\"size\":10,\"solidity\":0.2},\"type\":\"scatter\"}],\"parcoords\":[{\"type\":\"parcoords\",\"line\":{\"colorbar\":{\"outlinewidth\":0,\"ticks\":\"\"}}}],\"scatterpolargl\":[{\"type\":\"scatterpolargl\",\"marker\":{\"colorbar\":{\"outlinewidth\":0,\"ticks\":\"\"}}}],\"bar\":[{\"error_x\":{\"color\":\"#2a3f5f\"},\"error_y\":{\"color\":\"#2a3f5f\"},\"marker\":{\"line\":{\"color\":\"#E5ECF6\",\"width\":0.5},\"pattern\":{\"fillmode\":\"overlay\",\"size\":10,\"solidity\":0.2}},\"type\":\"bar\"}],\"scattergeo\":[{\"type\":\"scattergeo\",\"marker\":{\"colorbar\":{\"outlinewidth\":0,\"ticks\":\"\"}}}],\"scatterpolar\":[{\"type\":\"scatterpolar\",\"marker\":{\"colorbar\":{\"outlinewidth\":0,\"ticks\":\"\"}}}],\"histogram\":[{\"marker\":{\"pattern\":{\"fillmode\":\"overlay\",\"size\":10,\"solidity\":0.2}},\"type\":\"histogram\"}],\"scattergl\":[{\"type\":\"scattergl\",\"marker\":{\"colorbar\":{\"outlinewidth\":0,\"ticks\":\"\"}}}],\"scatter3d\":[{\"type\":\"scatter3d\",\"line\":{\"colorbar\":{\"outlinewidth\":0,\"ticks\":\"\"}},\"marker\":{\"colorbar\":{\"outlinewidth\":0,\"ticks\":\"\"}}}],\"scattermapbox\":[{\"type\":\"scattermapbox\",\"marker\":{\"colorbar\":{\"outlinewidth\":0,\"ticks\":\"\"}}}],\"scatterternary\":[{\"type\":\"scatterternary\",\"marker\":{\"colorbar\":{\"outlinewidth\":0,\"ticks\":\"\"}}}],\"scattercarpet\":[{\"type\":\"scattercarpet\",\"marker\":{\"colorbar\":{\"outlinewidth\":0,\"ticks\":\"\"}}}],\"carpet\":[{\"aaxis\":{\"endlinecolor\":\"#2a3f5f\",\"gridcolor\":\"white\",\"linecolor\":\"white\",\"minorgridcolor\":\"white\",\"startlinecolor\":\"#2a3f5f\"},\"baxis\":{\"endlinecolor\":\"#2a3f5f\",\"gridcolor\":\"white\",\"linecolor\":\"white\",\"minorgridcolor\":\"white\",\"startlinecolor\":\"#2a3f5f\"},\"type\":\"carpet\"}],\"table\":[{\"cells\":{\"fill\":{\"color\":\"#EBF0F8\"},\"line\":{\"color\":\"white\"}},\"header\":{\"fill\":{\"color\":\"#C8D4E3\"},\"line\":{\"color\":\"white\"}},\"type\":\"table\"}],\"barpolar\":[{\"marker\":{\"line\":{\"color\":\"#E5ECF6\",\"width\":0.5},\"pattern\":{\"fillmode\":\"overlay\",\"size\":10,\"solidity\":0.2}},\"type\":\"barpolar\"}],\"pie\":[{\"automargin\":true,\"type\":\"pie\"}]},\"layout\":{\"autotypenumbers\":\"strict\",\"colorway\":[\"#636efa\",\"#EF553B\",\"#00cc96\",\"#ab63fa\",\"#FFA15A\",\"#19d3f3\",\"#FF6692\",\"#B6E880\",\"#FF97FF\",\"#FECB52\"],\"font\":{\"color\":\"#2a3f5f\"},\"hovermode\":\"closest\",\"hoverlabel\":{\"align\":\"left\"},\"paper_bgcolor\":\"white\",\"plot_bgcolor\":\"#E5ECF6\",\"polar\":{\"bgcolor\":\"#E5ECF6\",\"angularaxis\":{\"gridcolor\":\"white\",\"linecolor\":\"white\",\"ticks\":\"\"},\"radialaxis\":{\"gridcolor\":\"white\",\"linecolor\":\"white\",\"ticks\":\"\"}},\"ternary\":{\"bgcolor\":\"#E5ECF6\",\"aaxis\":{\"gridcolor\":\"white\",\"linecolor\":\"white\",\"ticks\":\"\"},\"baxis\":{\"gridcolor\":\"white\",\"linecolor\":\"white\",\"ticks\":\"\"},\"caxis\":{\"gridcolor\":\"white\",\"linecolor\":\"white\",\"ticks\":\"\"}},\"coloraxis\":{\"colorbar\":{\"outlinewidth\":0,\"ticks\":\"\"}},\"colorscale\":{\"sequential\":[[0.0,\"#0d0887\"],[0.1111111111111111,\"#46039f\"],[0.2222222222222222,\"#7201a8\"],[0.3333333333333333,\"#9c179e\"],[0.4444444444444444,\"#bd3786\"],[0.5555555555555556,\"#d8576b\"],[0.6666666666666666,\"#ed7953\"],[0.7777777777777778,\"#fb9f3a\"],[0.8888888888888888,\"#fdca26\"],[1.0,\"#f0f921\"]],\"sequentialminus\":[[0.0,\"#0d0887\"],[0.1111111111111111,\"#46039f\"],[0.2222222222222222,\"#7201a8\"],[0.3333333333333333,\"#9c179e\"],[0.4444444444444444,\"#bd3786\"],[0.5555555555555556,\"#d8576b\"],[0.6666666666666666,\"#ed7953\"],[0.7777777777777778,\"#fb9f3a\"],[0.8888888888888888,\"#fdca26\"],[1.0,\"#f0f921\"]],\"diverging\":[[0,\"#8e0152\"],[0.1,\"#c51b7d\"],[0.2,\"#de77ae\"],[0.3,\"#f1b6da\"],[0.4,\"#fde0ef\"],[0.5,\"#f7f7f7\"],[0.6,\"#e6f5d0\"],[0.7,\"#b8e186\"],[0.8,\"#7fbc41\"],[0.9,\"#4d9221\"],[1,\"#276419\"]]},\"xaxis\":{\"gridcolor\":\"white\",\"linecolor\":\"white\",\"ticks\":\"\",\"title\":{\"standoff\":15},\"zerolinecolor\":\"white\",\"automargin\":true,\"zerolinewidth\":2},\"yaxis\":{\"gridcolor\":\"white\",\"linecolor\":\"white\",\"ticks\":\"\",\"title\":{\"standoff\":15},\"zerolinecolor\":\"white\",\"automargin\":true,\"zerolinewidth\":2},\"scene\":{\"xaxis\":{\"backgroundcolor\":\"#E5ECF6\",\"gridcolor\":\"white\",\"linecolor\":\"white\",\"showbackground\":true,\"ticks\":\"\",\"zerolinecolor\":\"white\",\"gridwidth\":2},\"yaxis\":{\"backgroundcolor\":\"#E5ECF6\",\"gridcolor\":\"white\",\"linecolor\":\"white\",\"showbackground\":true,\"ticks\":\"\",\"zerolinecolor\":\"white\",\"gridwidth\":2},\"zaxis\":{\"backgroundcolor\":\"#E5ECF6\",\"gridcolor\":\"white\",\"linecolor\":\"white\",\"showbackground\":true,\"ticks\":\"\",\"zerolinecolor\":\"white\",\"gridwidth\":2}},\"shapedefaults\":{\"line\":{\"color\":\"#2a3f5f\"}},\"annotationdefaults\":{\"arrowcolor\":\"#2a3f5f\",\"arrowhead\":0,\"arrowwidth\":1},\"geo\":{\"bgcolor\":\"white\",\"landcolor\":\"#E5ECF6\",\"subunitcolor\":\"white\",\"showland\":true,\"showlakes\":true,\"lakecolor\":\"white\"},\"title\":{\"x\":0.05},\"mapbox\":{\"style\":\"light\"}}},\"barmode\":\"group\"},                        {\"responsive\": true}                    ).then(function(){\n",
       "                            \n",
       "var gd = document.getElementById('51b2f691-1806-46a4-86dd-68fcd5711311');\n",
       "var x = new MutationObserver(function (mutations, observer) {{\n",
       "        var display = window.getComputedStyle(gd).display;\n",
       "        if (!display || display === 'none') {{\n",
       "            console.log([gd, 'removed!']);\n",
       "            Plotly.purge(gd);\n",
       "            observer.disconnect();\n",
       "        }}\n",
       "}});\n",
       "\n",
       "// Listen for the removal of the full notebook cells\n",
       "var notebookContainer = gd.closest('#notebook-container');\n",
       "if (notebookContainer) {{\n",
       "    x.observe(notebookContainer, {childList: true});\n",
       "}}\n",
       "\n",
       "// Listen for the clearing of the current output cell\n",
       "var outputEl = gd.closest('.output');\n",
       "if (outputEl) {{\n",
       "    x.observe(outputEl, {childList: true});\n",
       "}}\n",
       "\n",
       "                        })                };                });            </script>        </div>"
      ]
     },
     "metadata": {},
     "output_type": "display_data"
    },
    {
     "name": "stdout",
     "output_type": "stream",
     "text": [
      "Not enough bill or saves to make pie chart.\n",
      "Saves=-1128.8003271022067\n",
      "Bill=1228.8003271022067\n"
     ]
    }
   ],
   "source": [
    "a.daily_graph('data.txt')"
   ]
  },
  {
   "cell_type": "code",
   "execution_count": null,
   "id": "126454b8",
   "metadata": {
    "scrolled": false
   },
   "outputs": [],
   "source": [
    "a.save_to_excel('Administración anual.xlsx')"
   ]
  }
 ],
 "metadata": {
  "kernelspec": {
   "display_name": "Python 3 (ipykernel)",
   "language": "python",
   "name": "python3"
  },
  "language_info": {
   "codemirror_mode": {
    "name": "ipython",
    "version": 3
   },
   "file_extension": ".py",
   "mimetype": "text/x-python",
   "name": "python",
   "nbconvert_exporter": "python",
   "pygments_lexer": "ipython3",
   "version": "3.9.13"
  }
 },
 "nbformat": 4,
 "nbformat_minor": 5
}
